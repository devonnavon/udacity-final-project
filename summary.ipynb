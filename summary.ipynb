{
 "cells": [
  {
   "cell_type": "code",
   "execution_count": 1,
   "metadata": {},
   "outputs": [],
   "source": [
    "from datetime import datetime\n",
    "import os\n",
    "import configparser\n",
    "import pandas as pd\n",
    "from pyspark import SparkConf\n",
    "from pyspark.sql import SparkSession"
   ]
  },
  {
   "cell_type": "code",
   "execution_count": 2,
   "metadata": {},
   "outputs": [],
   "source": [
    "def create_spark_session(aws_access_key=None, aws_secret_key=None):\n",
    "    conf = SparkConf()\n",
    "    conf.set('spark.jars.packages', 'org.apache.hadoop:hadoop-aws:3.2.0')\n",
    "    conf.set('spark.hadoop.fs.s3a.aws.credentials.provider', 'org.apache.hadoop.fs.s3a.TemporaryAWSCredentialsProvider')\n",
    "    if (aws_access_key is not None) & (aws_secret_key is not None): \n",
    "        conf.set('spark.hadoop.fs.s3a.access.key', aws_access_key)\n",
    "        conf.set('spark.hadoop.fs.s3a.secret.key', aws_secret_key)\n",
    "    \n",
    "    spark = SparkSession \\\n",
    "        .builder \\\n",
    "        .config(conf=conf) \\\n",
    "        .getOrCreate()\n",
    "    return spark"
   ]
  },
  {
   "cell_type": "markdown",
   "metadata": {},
   "source": [
    "### Create Spark Session"
   ]
  },
  {
   "cell_type": "code",
   "execution_count": 3,
   "metadata": {},
   "outputs": [],
   "source": [
    "spark = create_spark_session()"
   ]
  },
  {
   "cell_type": "markdown",
   "metadata": {},
   "source": [
    "### Raw Data Frames"
   ]
  },
  {
   "cell_type": "code",
   "execution_count": 4,
   "metadata": {},
   "outputs": [
    {
     "name": "stdout",
     "output_type": "stream",
     "text": [
      "Raw Meta Data Schema - (52, 10)\n",
      "root\n",
      " |-- id: string (nullable = true)\n",
      " |-- symbol: string (nullable = true)\n",
      " |-- name: string (nullable = true)\n",
      " |-- block_time_in_minutes: long (nullable = true)\n",
      " |-- hashing_algorithm: string (nullable = true)\n",
      " |-- genesis_date: string (nullable = true)\n",
      " |-- twitter_screen_name: string (nullable = true)\n",
      " |-- subreddit_url: string (nullable = true)\n",
      " |-- description: string (nullable = true)\n",
      " |-- github_url: string (nullable = true)\n",
      "\n",
      "Raw Prices Schema - (786669, 5)\n",
      "root\n",
      " |-- date: string (nullable = true)\n",
      " |-- price_usd: string (nullable = true)\n",
      " |-- mcap_usd: string (nullable = true)\n",
      " |-- volume_usd: string (nullable = true)\n",
      " |-- coin_id: string (nullable = true)\n",
      "\n",
      "Raw Google Trends Schema - (141595, 5)\n",
      "root\n",
      " |-- _c0: string (nullable = true)\n",
      " |-- date: string (nullable = true)\n",
      " |-- keyword_interest: string (nullable = true)\n",
      " |-- keyword: string (nullable = true)\n",
      " |-- coin_id: string (nullable = true)\n",
      "\n"
     ]
    }
   ],
   "source": [
    "meta_path = './input_data/coin_meta_data.csv'\n",
    "prices_path = './input_data/coin_price_data/'\n",
    "gtrends_path = './input_data/google_trends_data/'\n",
    "\n",
    "\n",
    "pd_raw_meta_df = pd.read_csv(meta_path)\n",
    "\n",
    "raw_meta_df = spark.createDataFrame(pd_raw_meta_df.where(pd.notnull(pd_raw_meta_df), None))\n",
    "raw_prices_df = spark.read.csv(prices_path, header=True)\n",
    "raw_gtrends_df = spark.read.csv(gtrends_path, header=True)\n",
    "\n",
    "raw_meta_shape = (raw_meta_df.count(), len(raw_meta_df.columns))\n",
    "raw_prices_shape = (raw_prices_df.count(), len(raw_prices_df.columns))\n",
    "raw_gtrends_shape = (raw_gtrends_df.count(), len(raw_gtrends_df.columns))\n",
    "\n",
    "print(f'Raw Meta Data Schema - {raw_meta_shape}')\n",
    "raw_meta_df.printSchema()\n",
    "print(f'Raw Prices Schema - {raw_prices_shape}')\n",
    "raw_prices_df.printSchema()\n",
    "print(f'Raw Google Trends Schema - {raw_gtrends_shape}')\n",
    "raw_gtrends_df.printSchema()"
   ]
  },
  {
   "cell_type": "markdown",
   "metadata": {},
   "source": [
    "## Final Data Model"
   ]
  },
  {
   "cell_type": "code",
   "execution_count": 7,
   "metadata": {},
   "outputs": [
    {
     "name": "stdout",
     "output_type": "stream",
     "text": [
      "Coin Metrics Schema - (786669, 6)\n",
      "root\n",
      " |-- coin_id: string (nullable = true)\n",
      " |-- recorded_at: timestamp (nullable = true)\n",
      " |-- currency: string (nullable = true)\n",
      " |-- price: double (nullable = true)\n",
      " |-- market_cap: double (nullable = true)\n",
      " |-- volume: double (nullable = true)\n",
      "\n",
      "Google Trends Schema - (141190, 4)\n",
      "root\n",
      " |-- coin_id: string (nullable = true)\n",
      " |-- recorded_at: timestamp (nullable = true)\n",
      " |-- keyword: string (nullable = true)\n",
      " |-- trend_value: integer (nullable = true)\n",
      "\n",
      "Coins Schema - (52, 7)\n",
      "root\n",
      " |-- coin_id: string (nullable = true)\n",
      " |-- ticker: string (nullable = true)\n",
      " |-- name: string (nullable = true)\n",
      " |-- description: string (nullable = true)\n",
      " |-- twitter_account: string (nullable = true)\n",
      " |-- subreddit_url: string (nullable = true)\n",
      " |-- github_url: string (nullable = true)\n",
      "\n",
      "Time Schema - (791014, 7)\n",
      "root\n",
      " |-- recorded_at: timestamp (nullable = true)\n",
      " |-- hour: integer (nullable = true)\n",
      " |-- day: integer (nullable = true)\n",
      " |-- week: integer (nullable = true)\n",
      " |-- month: integer (nullable = true)\n",
      " |-- year: integer (nullable = true)\n",
      " |-- weekday: integer (nullable = true)\n",
      "\n"
     ]
    }
   ],
   "source": [
    "coin_metrics_path = './output_data/coin_metrics'\n",
    "coins_path = './output_data/coins'\n",
    "google_trends_path = './output_data/google_trends'\n",
    "time_path = './output_data/time'\n",
    "\n",
    "coin_metrics_df = spark.read.parquet(coin_metrics_path, header=True)\n",
    "coins_path_df = spark.read.parquet(coins_path, header=True)\n",
    "google_trends_df = spark.read.parquet(google_trends_path, header=True)\n",
    "time_df = spark.read.parquet(time_path, header=True)\n",
    "\n",
    "coin_metrics_shape = (coin_metrics_df.count(), len(coin_metrics_df.columns))\n",
    "coins_shape = (coins_path_df.count(), len(coins_path_df.columns))\n",
    "google_trends_shape = (google_trends_df.count(), len(google_trends_df.columns))\n",
    "time_shape = (time_df.count(), len(time_df.columns))\n",
    "\n",
    "print(f'Coin Metrics Schema - {coin_metrics_shape}')\n",
    "coin_metrics_df.printSchema()\n",
    "print(f'Google Trends Schema - {google_trends_shape}')\n",
    "google_trends_df.printSchema()\n",
    "print(f'Coins Schema - {coins_shape}')\n",
    "coins_path_df.printSchema()\n",
    "print(f'Time Schema - {time_shape}')\n",
    "time_df.printSchema()"
   ]
  },
  {
   "cell_type": "code",
   "execution_count": null,
   "metadata": {},
   "outputs": [],
   "source": []
  }
 ],
 "metadata": {
  "kernelspec": {
   "display_name": "Python 3",
   "language": "python",
   "name": "python3"
  },
  "language_info": {
   "codemirror_mode": {
    "name": "ipython",
    "version": 3
   },
   "file_extension": ".py",
   "mimetype": "text/x-python",
   "name": "python",
   "nbconvert_exporter": "python",
   "pygments_lexer": "ipython3",
   "version": "3.7.4"
  }
 },
 "nbformat": 4,
 "nbformat_minor": 4
}
