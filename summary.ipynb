{
 "cells": [
  {
   "cell_type": "code",
   "execution_count": 29,
   "metadata": {},
   "outputs": [],
   "source": [
    "from datetime import datetime\n",
    "import os\n",
    "import configparser\n",
    "import pandas as pd\n",
    "from pyspark import SparkConf\n",
    "from pyspark.sql import SparkSession\n",
    "from pyspark.sql.functions import col, desc"
   ]
  },
  {
   "cell_type": "code",
   "execution_count": 2,
   "metadata": {},
   "outputs": [],
   "source": [
    "def create_spark_session(aws_access_key=None, aws_secret_key=None):\n",
    "    conf = SparkConf()\n",
    "    conf.set('spark.jars.packages', 'org.apache.hadoop:hadoop-aws:3.2.0')\n",
    "    conf.set('spark.hadoop.fs.s3a.aws.credentials.provider', 'org.apache.hadoop.fs.s3a.TemporaryAWSCredentialsProvider')\n",
    "    if (aws_access_key is not None) & (aws_secret_key is not None): \n",
    "        conf.set('spark.hadoop.fs.s3a.access.key', aws_access_key)\n",
    "        conf.set('spark.hadoop.fs.s3a.secret.key', aws_secret_key)\n",
    "    \n",
    "    spark = SparkSession \\\n",
    "        .builder \\\n",
    "        .config(conf=conf) \\\n",
    "        .getOrCreate()\n",
    "    return spark"
   ]
  },
  {
   "cell_type": "markdown",
   "metadata": {},
   "source": [
    "### Create Spark Session"
   ]
  },
  {
   "cell_type": "code",
   "execution_count": 3,
   "metadata": {},
   "outputs": [],
   "source": [
    "spark = create_spark_session()"
   ]
  },
  {
   "cell_type": "markdown",
   "metadata": {},
   "source": [
    "### Raw Data Frames"
   ]
  },
  {
   "cell_type": "code",
   "execution_count": 4,
   "metadata": {},
   "outputs": [
    {
     "name": "stdout",
     "output_type": "stream",
     "text": [
      "Raw Meta Data Schema - (52, 10)\n",
      "root\n",
      " |-- id: string (nullable = true)\n",
      " |-- symbol: string (nullable = true)\n",
      " |-- name: string (nullable = true)\n",
      " |-- block_time_in_minutes: long (nullable = true)\n",
      " |-- hashing_algorithm: string (nullable = true)\n",
      " |-- genesis_date: string (nullable = true)\n",
      " |-- twitter_screen_name: string (nullable = true)\n",
      " |-- subreddit_url: string (nullable = true)\n",
      " |-- description: string (nullable = true)\n",
      " |-- github_url: string (nullable = true)\n",
      "\n",
      "Raw Prices Schema - (786669, 5)\n",
      "root\n",
      " |-- date: string (nullable = true)\n",
      " |-- price_usd: string (nullable = true)\n",
      " |-- mcap_usd: string (nullable = true)\n",
      " |-- volume_usd: string (nullable = true)\n",
      " |-- coin_id: string (nullable = true)\n",
      "\n",
      "Raw Google Trends Schema - (194080, 5)\n",
      "root\n",
      " |-- _c0: string (nullable = true)\n",
      " |-- date: string (nullable = true)\n",
      " |-- keyword_interest: string (nullable = true)\n",
      " |-- keyword: string (nullable = true)\n",
      " |-- coin_id: string (nullable = true)\n",
      "\n"
     ]
    }
   ],
   "source": [
    "meta_path = './input_data/coin_meta_data.csv'\n",
    "prices_path = './input_data/coin_price_data/'\n",
    "gtrends_path = './input_data/google_trends_data/'\n",
    "\n",
    "\n",
    "pd_raw_meta_df = pd.read_csv(meta_path)\n",
    "\n",
    "raw_meta_df = spark.createDataFrame(pd_raw_meta_df.where(pd.notnull(pd_raw_meta_df), None))\n",
    "raw_prices_df = spark.read.csv(prices_path, header=True)\n",
    "raw_gtrends_df = spark.read.csv(gtrends_path, header=True)\n",
    "\n",
    "raw_meta_shape = (raw_meta_df.count(), len(raw_meta_df.columns))\n",
    "raw_prices_shape = (raw_prices_df.count(), len(raw_prices_df.columns))\n",
    "raw_gtrends_shape = (raw_gtrends_df.count(), len(raw_gtrends_df.columns))\n",
    "\n",
    "print(f'Raw Meta Data Schema - {raw_meta_shape}')\n",
    "raw_meta_df.printSchema()\n",
    "print(f'Raw Prices Schema - {raw_prices_shape}')\n",
    "raw_prices_df.printSchema()\n",
    "print(f'Raw Google Trends Schema - {raw_gtrends_shape}')\n",
    "raw_gtrends_df.printSchema()"
   ]
  },
  {
   "cell_type": "markdown",
   "metadata": {},
   "source": [
    "## Final Data Model"
   ]
  },
  {
   "cell_type": "code",
   "execution_count": 9,
   "metadata": {},
   "outputs": [
    {
     "name": "stdout",
     "output_type": "stream",
     "text": [
      "Coin Metrics Schema - (786669, 6)\n",
      "root\n",
      " |-- coin_id: string (nullable = true)\n",
      " |-- recorded_at: timestamp (nullable = true)\n",
      " |-- currency: string (nullable = true)\n",
      " |-- price: double (nullable = true)\n",
      " |-- market_cap: double (nullable = true)\n",
      " |-- volume: double (nullable = true)\n",
      "\n",
      "Google Trends Schema - (193472, 4)\n",
      "root\n",
      " |-- coin_id: string (nullable = true)\n",
      " |-- recorded_at: timestamp (nullable = true)\n",
      " |-- keyword: string (nullable = true)\n",
      " |-- trend_value: integer (nullable = true)\n",
      "\n",
      "Coins Schema - (52, 7)\n",
      "root\n",
      " |-- coin_id: string (nullable = true)\n",
      " |-- ticker: string (nullable = true)\n",
      " |-- name: string (nullable = true)\n",
      " |-- description: string (nullable = true)\n",
      " |-- twitter_account: string (nullable = true)\n",
      " |-- subreddit_url: string (nullable = true)\n",
      " |-- github_url: string (nullable = true)\n",
      "\n",
      "Time Schema - (791016, 7)\n",
      "root\n",
      " |-- recorded_at: timestamp (nullable = true)\n",
      " |-- hour: integer (nullable = true)\n",
      " |-- day: integer (nullable = true)\n",
      " |-- week: integer (nullable = true)\n",
      " |-- month: integer (nullable = true)\n",
      " |-- year: integer (nullable = true)\n",
      " |-- weekday: integer (nullable = true)\n",
      "\n"
     ]
    }
   ],
   "source": [
    "coin_metrics_path = './output_data/coin_metrics'\n",
    "coins_path = './output_data/coins'\n",
    "google_trends_path = './output_data/google_trends'\n",
    "time_path = './output_data/time'\n",
    "\n",
    "coin_metrics_df = spark.read.parquet(coin_metrics_path, header=True)\n",
    "coins_df = spark.read.parquet(coins_path, header=True)\n",
    "google_trends_df = spark.read.parquet(google_trends_path, header=True)\n",
    "time_df = spark.read.parquet(time_path, header=True)\n",
    "\n",
    "coin_metrics_shape = (coin_metrics_df.count(), len(coin_metrics_df.columns))\n",
    "coins_shape = (coins_path_df.count(), len(coins_path_df.columns))\n",
    "google_trends_shape = (google_trends_df.count(), len(google_trends_df.columns))\n",
    "time_shape = (time_df.count(), len(time_df.columns))\n",
    "\n",
    "print(f'Coin Metrics Schema - {coin_metrics_shape}')\n",
    "coin_metrics_df.printSchema()\n",
    "print(f'Google Trends Schema - {google_trends_shape}')\n",
    "google_trends_df.printSchema()\n",
    "print(f'Coins Schema - {coins_shape}')\n",
    "coins_path_df.printSchema()\n",
    "print(f'Time Schema - {time_shape}')\n",
    "time_df.printSchema()"
   ]
  },
  {
   "cell_type": "markdown",
   "metadata": {},
   "source": [
    "## Final Model Tables"
   ]
  },
  {
   "cell_type": "code",
   "execution_count": 6,
   "metadata": {},
   "outputs": [
    {
     "name": "stdout",
     "output_type": "stream",
     "text": [
      "+-----------+--------------------+--------+------------------+--------------------+--------------------+\n",
      "|    coin_id|         recorded_at|currency|             price|          market_cap|              volume|\n",
      "+-----------+--------------------+--------+------------------+--------------------+--------------------+\n",
      "|binancecoin|2018-06-19 23:22:...|     usd|16.542910930091654|1.8865749046342008E9| 7.170711267473339E7|\n",
      "|binancecoin|2018-06-30 02:45:...|     usd|14.660313618183396|1.6718810784275064E9|  6.46723625395231E7|\n",
      "|binancecoin|2018-07-06 05:20:...|     usd|13.579914721855094| 1.548670994457347E9| 3.634828318429303E7|\n",
      "|binancecoin|2018-07-09 12:13:...|     usd|13.556972923067582|1.5460546821261861E9| 5.151600845765645E7|\n",
      "|binancecoin|2018-07-12 00:11:...|     usd|12.503530626770281| 1.425918763600528E9| 4.647439893762504E7|\n",
      "|binancecoin|2018-07-21 10:00:...|     usd|11.722658054298263|1.1493045191559227E9|3.5216468677121826E7|\n",
      "|binancecoin|2018-07-29 09:57:...|     usd|14.366882095716374|1.4085476555151103E9| 6.075025035386137E7|\n",
      "|binancecoin|2018-08-16 09:01:...|     usd| 9.677104411225379| 9.486814433984854E8| 2.833336595189856E7|\n",
      "|binancecoin|2018-08-22 09:22:...|     usd|  9.98235851403444| 9.786133406291897E8| 2.073029538733851E7|\n",
      "|binancecoin|2018-08-29 14:48:...|     usd|11.145973953484308|1.0927656532997413E9| 3.686887577571356E7|\n",
      "|binancecoin|2018-08-31 11:21:...|     usd| 10.77026261590331| 1.054061404962154E9|2.4060356343488008E7|\n",
      "|binancecoin|2018-09-01 22:57:...|     usd|11.423496791990587|1.1162134291121879E9| 3.023369252163663E7|\n",
      "|binancecoin|2018-09-06 02:02:...|     usd|  9.73655019511453| 9.511564847037082E8|2.9503778606104378E7|\n",
      "|binancecoin|2018-09-16 15:11:...|     usd| 9.882753885014273| 9.443391381736144E8|2.1017837629101634E7|\n",
      "|binancecoin|2018-09-16 20:11:...|     usd| 9.834955038693671| 9.394329419684774E8| 2.362695493596964E7|\n",
      "|binancecoin|2018-09-19 10:47:...|     usd| 9.568717362735407| 9.150257374861947E8| 2.602335954494657E7|\n",
      "|binancecoin|2018-10-02 07:36:...|     usd|  9.93234123761816| 1.434244646764097E9|2.2021395885533728E7|\n",
      "|binancecoin|2018-10-06 01:04:...|     usd|10.668728334597303|1.5411940006871684E9| 4.149871987024832E7|\n",
      "|binancecoin|2018-10-07 18:34:...|     usd|10.448730634915755|1.5096108098642106E9|3.1833995994752325E7|\n",
      "|binancecoin|2018-10-16 17:07:...|     usd|10.039368427240367|1.4498620895063167E9| 2.784462741224256E7|\n",
      "+-----------+--------------------+--------+------------------+--------------------+--------------------+\n",
      "only showing top 20 rows\n",
      "\n"
     ]
    }
   ],
   "source": [
    "coin_metrics_df.show()"
   ]
  },
  {
   "cell_type": "code",
   "execution_count": 7,
   "metadata": {},
   "outputs": [
    {
     "name": "stdout",
     "output_type": "stream",
     "text": [
      "+----------------+-------------------+---------+-----------+\n",
      "|         coin_id|        recorded_at|  keyword|trend_value|\n",
      "+----------------+-------------------+---------+-----------+\n",
      "|crypto-com-chain|2021-06-05 07:00:00|cro token|         30|\n",
      "|crypto-com-chain|2021-06-06 18:00:00|cro token|         23|\n",
      "|crypto-com-chain|2021-06-21 18:00:00|cro token|         26|\n",
      "|crypto-com-chain|2021-06-29 22:00:00|cro token|         33|\n",
      "|crypto-com-chain|2021-07-07 01:00:00|cro token|         24|\n",
      "|crypto-com-chain|2021-07-12 14:00:00|cro token|         15|\n",
      "|crypto-com-chain|2021-07-26 17:00:00|cro token|         24|\n",
      "|crypto-com-chain|2021-10-02 12:00:00|cro token|          0|\n",
      "|crypto-com-chain|2021-10-07 18:00:00|cro token|         31|\n",
      "|crypto-com-chain|2021-10-09 05:00:00|cro token|         61|\n",
      "|crypto-com-chain|2021-11-01 09:00:00|cro token|         11|\n",
      "|crypto-com-chain|2021-11-15 01:00:00|cro token|         84|\n",
      "|crypto-com-chain|2021-11-20 12:00:00|cro token|         22|\n",
      "|crypto-com-chain|2021-11-27 21:00:00|cro token|         33|\n",
      "|crypto-com-chain|2021-12-10 22:00:00|cro token|         59|\n",
      "|crypto-com-chain|2021-12-13 10:00:00|cro token|         32|\n",
      "|crypto-com-chain|2021-12-18 07:00:00|cro token|         21|\n",
      "|crypto-com-chain|2021-12-20 15:00:00|cro token|         24|\n",
      "|crypto-com-chain|2021-12-22 07:00:00|cro token|         37|\n",
      "|crypto-com-chain|2021-12-28 14:00:00|cro token|         45|\n",
      "+----------------+-------------------+---------+-----------+\n",
      "only showing top 20 rows\n",
      "\n"
     ]
    }
   ],
   "source": [
    "google_trends_df.show()"
   ]
  },
  {
   "cell_type": "code",
   "execution_count": 10,
   "metadata": {},
   "outputs": [
    {
     "name": "stdout",
     "output_type": "stream",
     "text": [
      "+----------------+------+---------------+--------------------+---------------+--------------------+--------------------+\n",
      "|         coin_id|ticker|           name|         description|twitter_account|       subreddit_url|          github_url|\n",
      "+----------------+------+---------------+--------------------+---------------+--------------------+--------------------+\n",
      "|        algorand|  algo|       Algorand|Algorand is a sca...|       algorand|https://www.reddi...|https://github.co...|\n",
      "|       ftx-token|   ftt|      FTX Token|FTT is FTX's exch...|   FTX_official|                null|                null|\n",
      "|            tron|   trx|           TRON|What is Tron?\\r\\n...| tronfoundation|https://www.reddi...|https://github.co...|\n",
      "|             okb|   okb|            OKB|<a href=\"https://...|           OKEx|                null|                null|\n",
      "|    bitcoin-cash|   bch|   Bitcoin Cash|Bitcoin Cash is a...|           null|https://www.reddi...|https://github.co...|\n",
      "|          fantom|   ftm|         Fantom|FANTOM is a new D...|      FantomFDN|https://www.reddi...|https://github.co...|\n",
      "|         stellar|   xlm|        Stellar|The Stellar netwo...|     stellarorg|https://www.reddi...|https://github.co...|\n",
      "|         uniswap|   uni|        Uniswap|UNI is the govern...|        Uniswap|https://www.reddi...|                null|\n",
      "|         cardano|   ada|        Cardano|Cardano is a dece...|CardanoStiftung|https://www.reddi...|https://github.co...|\n",
      "|          solana|   sol|         Solana|                null|         solana|https://www.reddi...|https://github.co...|\n",
      "|          ripple|   xrp|            XRP|Ripple is the cat...|         Ripple|https://www.reddi...|https://github.co...|\n",
      "|        polkadot|   dot|       Polkadot|Polkadot is a pla...|       Polkadot|https://www.reddi...|https://github.co...|\n",
      "|       microtick|  TICK|      Microtick|The Microtick pro...| microtick_zone|                null|https://github.co...|\n",
      "|         bitcoin|   btc|        Bitcoin|Bitcoin is the fi...|        bitcoin|https://www.reddi...|https://github.co...|\n",
      "|        ethereum|   eth|       Ethereum|Ethereum is a <a ...|       ethereum|https://www.reddi...|https://github.co...|\n",
      "|     binancecoin|   bnb|   Binance Coin|Binance Coin is t...|        binance|https://www.reddi...|https://github.co...|\n",
      "|crypto-com-chain|   cro|Crypto.com Coin|We propose Crypto...|      cryptocom|https://www.reddi...|https://github.co...|\n",
      "|       chainlink|  link|      Chainlink|Chainlink is a fr...|      chainlink|https://www.reddi...|https://github.co...|\n",
      "|        litecoin|   ltc|       Litecoin|Litecoin is a pee...|  LTCFoundation|https://www.reddi...|https://github.co...|\n",
      "|            near|  near|           Near|NEAR is a sharded...|   nearprotocol|                null|https://github.co...|\n",
      "+----------------+------+---------------+--------------------+---------------+--------------------+--------------------+\n",
      "only showing top 20 rows\n",
      "\n"
     ]
    }
   ],
   "source": [
    "coins_df.show()"
   ]
  },
  {
   "cell_type": "code",
   "execution_count": 11,
   "metadata": {},
   "outputs": [
    {
     "name": "stdout",
     "output_type": "stream",
     "text": [
      "+--------------------+----+---+----+-----+----+-------+\n",
      "|         recorded_at|hour|day|week|month|year|weekday|\n",
      "+--------------------+----+---+----+-----+----+-------+\n",
      "|2020-04-15 05:24:...|   5| 15|  16|    4|2020|      4|\n",
      "|2020-09-04 16:02:...|  16|  4|  36|    9|2020|      6|\n",
      "|2018-08-08 11:34:...|  11|  8|  32|    8|2018|      4|\n",
      "|2018-08-19 05:50:...|   5| 19|  33|    8|2018|      1|\n",
      "|2021-09-15 21:05:...|  21| 15|  37|    9|2021|      4|\n",
      "|2020-02-13 05:09:...|   5| 13|   7|    2|2020|      5|\n",
      "|2022-01-30 14:01:...|  14| 30|   4|    1|2022|      1|\n",
      "|2018-10-18 20:13:...|  20| 18|  42|   10|2018|      5|\n",
      "|2019-02-27 08:00:...|   8| 27|   9|    2|2019|      4|\n",
      "|2019-10-19 01:02:...|   1| 19|  42|   10|2019|      7|\n",
      "|2021-05-09 06:02:...|   6|  9|  18|    5|2021|      1|\n",
      "|2021-07-17 13:02:...|  13| 17|  28|    7|2021|      7|\n",
      "|2018-10-02 06:54:...|   6|  2|  40|   10|2018|      3|\n",
      "|2018-12-09 01:02:...|   1|  9|  49|   12|2018|      1|\n",
      "|2018-09-12 16:26:...|  16| 12|  37|    9|2018|      4|\n",
      "|2020-07-01 20:07:...|  20|  1|  27|    7|2020|      4|\n",
      "|2021-02-15 13:30:...|  13| 15|   7|    2|2021|      2|\n",
      "|2020-05-27 12:02:...|  12| 27|  22|    5|2020|      4|\n",
      "|2018-12-05 19:02:...|  19|  5|  49|   12|2018|      4|\n",
      "|2021-11-03 17:01:...|  17|  3|  44|   11|2021|      4|\n",
      "+--------------------+----+---+----+-----+----+-------+\n",
      "only showing top 20 rows\n",
      "\n"
     ]
    }
   ],
   "source": [
    "time_df.show()"
   ]
  },
  {
   "cell_type": "markdown",
   "metadata": {},
   "source": [
    "## Example Query\n",
    "- below I will show an example of how we can get scores and prices per hour for a specific keyword type"
   ]
  },
  {
   "cell_type": "code",
   "execution_count": 26,
   "metadata": {},
   "outputs": [],
   "source": [
    "token_keywords = google_trends_df.where(col('keyword').contains('token'))\\\n",
    "        .join(time_df, ['recorded_at'], 'inner')\n",
    "\n",
    "out_df = metric_token_score_df = coin_metrics_df.join(time_df, coin_metrics_df.recorded_at == time_df.recorded_at, 'inner')\\\n",
    "        .join(token_keywords, (time_df.year == token_keywords.year)&(time_df.month == token_keywords.month)&(time_df.day == token_keywords.day) & (coin_metrics_df.coin_id == token_keywords.coin_id))\\\n",
    "        .join(coins_df, coin_metrics_df.coin_id == coins_df.coin_id, 'inner').select(coins_df.coin_id, 'ticker', 'name', 'keyword', token_keywords.recorded_at, 'trend_value', 'currency','price','market_cap', 'volume')"
   ]
  },
  {
   "cell_type": "code",
   "execution_count": 34,
   "metadata": {},
   "outputs": [
    {
     "name": "stdout",
     "output_type": "stream",
     "text": [
      "+----------------+------+---------------+----------+-------------------+-----------+--------+--------------------+--------------------+--------------------+\n",
      "|         coin_id|ticker|           name|   keyword|        recorded_at|trend_value|currency|               price|          market_cap|              volume|\n",
      "+----------------+------+---------------+----------+-------------------+-----------+--------+--------------------+--------------------+--------------------+\n",
      "|              ki|   xki|             KI| xki token|2021-06-01 00:00:00|          0|     usd| 0.20836257659667973|                 0.0|   264324.5248757013|\n",
      "|     persistence|  xprt|    Persistence|xprt token|2021-06-01 00:00:00|          0|     usd|  11.400455719533895|2.1090110593557045E8|  1221140.5283082407|\n",
      "|        terrausd|   ust|       TerraUSD| ust token|2021-06-01 00:00:00|         69|     usd|  0.9993063246858573|1.9461810255603673E9| 5.579141266727159E7|\n",
      "|crypto-com-chain|   cro|Crypto.com Coin| cro token|2021-06-01 00:00:00|         44|     usd| 0.12209407832999591|3.0833160358655663E9| 7.275134557708694E7|\n",
      "|    iris-network|  iris|        IRISnet|iris token|2021-06-01 00:00:00|          0|     usd|  0.0811525655598006| 8.271605290927672E7| 1.486693881950617E7|\n",
      "|        likecoin|  like|       LikeCoin|like token|2021-06-01 00:00:00|         64|     usd|0.022568877227879595| 2.358489405115777E7|  120227.61112322327|\n",
      "|        sentinel|  dvpn|       Sentinel|dvpn token|2021-06-01 00:00:00|          0|     usd| 0.01382833891829429|                 0.0|   930990.6827380271|\n",
      "|crypto-com-chain|   cro|Crypto.com Coin| cro token|2021-06-01 00:00:00|         44|     usd|   0.125617006879388|3.1734641647420373E9| 9.552702170892285E7|\n",
      "|        likecoin|  like|       LikeCoin|like token|2021-06-01 00:00:00|         64|     usd| 0.02244582215571655| 2.356264955471894E7|  121991.53318326497|\n",
      "|        terrausd|   ust|       TerraUSD| ust token|2021-06-01 00:00:00|         69|     usd|  0.9937647335927842|1.9453573664589722E9| 5.580454470617094E7|\n",
      "|          secret|  scrt|         Secret|scrt token|2021-06-01 00:00:00|         54|     usd|  1.7102903673102774|1.1951879154340191E8|  7675869.1874249065|\n",
      "|     persistence|  xprt|    Persistence|xprt token|2021-06-01 00:00:00|          0|     usd|  11.490876311292189|2.1291753018025243E8|  1293477.0412578157|\n",
      "|         bitsong|  btsg|        BitSong|btsg token|2021-06-01 00:00:00|          0|     usd| 0.14276382991371805|                 0.0|   993.7103950273321|\n",
      "|   akash-network|   akt|  Akash Network| akt token|2021-06-01 00:00:00|          0|     usd|  3.2424191247591083| 1.977084773228461E8|  1488846.9699929277|\n",
      "|        sentinel|  dvpn|       Sentinel|dvpn token|2021-06-01 00:00:00|          0|     usd|0.013689035965663753|                 0.0|   796804.6648711559|\n",
      "|     persistence|  xprt|    Persistence|xprt token|2021-06-01 00:00:00|          0|     usd|  11.601146031063996|2.1616266138078323E8|  1331673.8354625918|\n",
      "|         e-money|   ngm|        e-Money| ngm token|2021-06-01 00:00:00|          0|     usd|  0.5019741404695278|1.0035840248845564E7|   59124.92374037524|\n",
      "|      terra-luna|  luna|          Terra|luna token|2021-06-01 00:00:00|         20|     usd|   6.562897789254285|2.6816973922863045E9|3.6983793254487336E8|\n",
      "|              ki|   xki|             KI| xki token|2021-06-01 00:00:00|          0|     usd| 0.19709020829491763|                 0.0|  142281.85166315996|\n",
      "|crypto-com-chain|   cro|Crypto.com Coin| cro token|2021-06-01 00:00:00|         44|     usd|  0.1280384191026165|3.2372927796438947E9|1.0070729449849239E8|\n",
      "|crypto-com-chain|   cro|Crypto.com Coin| cro token|2021-06-01 00:00:00|         44|     usd|  0.1280384191026165|3.2372927796438947E9|1.0070729449849239E8|\n",
      "|          secret|  scrt|         Secret|scrt token|2021-06-01 00:00:00|         54|     usd|   1.630367311631607|1.1353529900378062E8|   3336213.153224359|\n",
      "|         e-money|   ngm|        e-Money| ngm token|2021-06-01 00:00:00|          0|     usd|  0.5066999701778564|1.0067656505592475E7|  65243.397540059035|\n",
      "|        sentinel|  dvpn|       Sentinel|dvpn token|2021-06-01 00:00:00|          0|     usd|0.013636262109800871|                 0.0|   871816.7760760142|\n",
      "|          cosmos|  atom|         Cosmos|atom token|2021-06-01 00:00:00|          0|     usd|  13.923026913254258| 3.315755177567705E9| 5.269081650046546E8|\n",
      "|crypto-com-chain|   cro|Crypto.com Coin| cro token|2021-06-01 00:00:00|         44|     usd| 0.12098319092879364|  3.07348552770802E9| 7.176646305300127E7|\n",
      "|crypto-com-chain|   cro|Crypto.com Coin| cro token|2021-06-01 00:00:00|         44|     usd| 0.12349990141277552|3.1211172268171787E9|  8.51365299033615E7|\n",
      "|    iris-network|  iris|        IRISnet|iris token|2021-06-01 00:00:00|          0|     usd| 0.07954055860805877| 8.136180238986617E7|   9849057.780688513|\n",
      "|        sentinel|  dvpn|       Sentinel|dvpn token|2021-06-01 00:00:00|          0|     usd|0.014754768545251885|                 0.0|   770939.0255150486|\n",
      "|     persistence|  xprt|    Persistence|xprt token|2021-06-01 00:00:00|          0|     usd|  11.247094213638727|2.0952569102351946E8|   1274862.213408544|\n",
      "|   akash-network|   akt|  Akash Network| akt token|2021-06-01 00:00:00|          0|     usd|   3.287846397630959|2.0129622224642062E8|  1472141.7862656696|\n",
      "|crypto-com-chain|   cro|Crypto.com Coin| cro token|2021-06-01 00:00:00|         44|     usd| 0.12483779669113652|  3.15379581468378E9| 9.898464740720522E7|\n",
      "|          secret|  scrt|         Secret|scrt token|2021-06-01 00:00:00|         54|     usd|  1.6193937615842415|1.1300002756017937E8|   5268662.104116796|\n",
      "|crypto-com-chain|   cro|Crypto.com Coin| cro token|2021-06-01 00:00:00|         44|     usd|   0.125617006879388|3.1734641647420373E9| 9.552702170892285E7|\n",
      "|              ki|   xki|             KI| xki token|2021-06-01 00:00:00|          0|     usd| 0.20851905223939676|                 0.0|  251453.18258530486|\n",
      "|crypto-com-chain|   cro|Crypto.com Coin| cro token|2021-06-01 00:00:00|         44|     usd| 0.12325608871638344|3.1341634713627396E9| 7.961198035308987E7|\n",
      "|        terrausd|   ust|       TerraUSD| ust token|2021-06-01 00:00:00|         69|     usd|  1.0005673586771737|1.9516700603238485E9| 5.289873831836688E7|\n",
      "|          cosmos|  atom|         Cosmos|atom token|2021-06-01 00:00:00|          0|     usd|    13.5369728401863|3.2397255277653837E9|5.2169112094223076E8|\n",
      "|        likecoin|  like|       LikeCoin|like token|2021-06-01 00:00:00|         64|     usd|0.022647274549708156|2.3512710478995368E7|  120658.79277218592|\n",
      "|         e-money|   ngm|        e-Money| ngm token|2021-06-01 00:00:00|          0|     usd|  0.4841844825158462|   9691126.132091908|   58734.48283606725|\n",
      "|        likecoin|  like|       LikeCoin|like token|2021-06-01 00:00:00|         64|     usd| 0.02242143176178298|2.3214189690537438E7|  108833.37909823816|\n",
      "|crypto-com-chain|   cro|Crypto.com Coin| cro token|2021-06-01 00:00:00|         44|     usd| 0.12209407832999591|3.0833160358655663E9| 7.275134557708694E7|\n",
      "|         e-money|   ngm|        e-Money| ngm token|2021-06-01 00:00:00|          0|     usd|  0.5025093931786017|1.0116237053385403E7|   68072.18369224269|\n",
      "|        likecoin|  like|       LikeCoin|like token|2021-06-01 00:00:00|         64|     usd|0.020856501325496546| 2.150953278771995E7|   54691.63728247768|\n",
      "|          cosmos|  atom|         Cosmos|atom token|2021-06-01 00:00:00|          0|     usd|  13.423101125467953| 3.226201911959408E9| 5.165580458296076E8|\n",
      "|         e-money|   ngm|        e-Money| ngm token|2021-06-01 00:00:00|          0|     usd|  0.5080374533384105|1.0096505466463018E7|  65352.566296329125|\n",
      "|      terra-luna|  luna|          Terra|luna token|2021-06-01 00:00:00|         20|     usd|   6.437515090144617| 2.638610265959168E9|3.7276063932517093E8|\n",
      "|         bitsong|  btsg|        BitSong|btsg token|2021-06-01 00:00:00|          0|     usd| 0.14311559180488703|                 0.0|  12514.540098064359|\n",
      "|     persistence|  xprt|    Persistence|xprt token|2021-06-01 00:00:00|          0|     usd|   11.53021730366365|2.1467050028765458E8|  1054036.9572506747|\n",
      "|      terra-luna|  luna|          Terra|luna token|2021-06-01 00:00:00|         20|     usd|   6.198582729373437| 2.540142099575494E9|2.4991653459853026E8|\n",
      "|crypto-com-chain|   cro|Crypto.com Coin| cro token|2021-06-01 00:00:00|         44|     usd| 0.12207780604874395|  3.08405328569874E9| 7.383964194007397E7|\n",
      "|        terrausd|   ust|       TerraUSD| ust token|2021-06-01 00:00:00|         69|     usd|  1.0017909539760905|1.9555880339018178E9| 4.939511560798348E7|\n",
      "|    iris-network|  iris|        IRISnet|iris token|2021-06-01 00:00:00|          0|     usd| 0.08193619847635206|  8.38861575467365E7|   9723627.144268246|\n",
      "|        terrausd|   ust|       TerraUSD| ust token|2021-06-01 00:00:00|         69|     usd|  0.9962054735372319|1.9409810377566352E9| 5.618669879854529E7|\n",
      "|crypto-com-chain|   cro|Crypto.com Coin| cro token|2021-06-01 00:00:00|         44|     usd| 0.12349990141277552|3.1211172268171787E9|  8.51365299033615E7|\n",
      "|          secret|  scrt|         Secret|scrt token|2021-06-01 00:00:00|         54|     usd|   1.655539676389745|1.1496905536253718E8|  3129031.2719011893|\n",
      "|    iris-network|  iris|        IRISnet|iris token|2021-06-01 00:00:00|          0|     usd|  0.0788554028348658| 8.056688367917478E7|   9909775.339287288|\n",
      "|        sentinel|  dvpn|       Sentinel|dvpn token|2021-06-01 00:00:00|          0|     usd|0.018554525796204088|                 0.0|   947437.9201803764|\n",
      "|        sentinel|  dvpn|       Sentinel|dvpn token|2021-06-01 00:00:00|          0|     usd|  0.0162746225471771|                 0.0|   787670.3586353117|\n",
      "|     persistence|  xprt|    Persistence|xprt token|2021-06-01 00:00:00|          0|     usd|  11.924595669333387|2.2321206183241075E8|  1365924.9707313476|\n",
      "|      terra-luna|  luna|          Terra|luna token|2021-06-01 00:00:00|         20|     usd|   6.244093328419312| 2.579365727527106E9| 2.811208724627547E8|\n",
      "|         bitsong|  btsg|        BitSong|btsg token|2021-06-01 00:00:00|          0|     usd|  0.1468820510050071|                 0.0|   6207.986907822653|\n",
      "|        sentinel|  dvpn|       Sentinel|dvpn token|2021-06-01 00:00:00|          0|     usd|0.014098724852670183|                 0.0|   863926.3800550429|\n",
      "|         bitsong|  btsg|        BitSong|btsg token|2021-06-01 00:00:00|          0|     usd| 0.14356009329266556|                 0.0|   12553.40890070354|\n",
      "|          cosmos|  atom|         Cosmos|atom token|2021-06-01 00:00:00|          0|     usd|  13.995993289061785|3.3232142293652844E9| 5.228046347080279E8|\n",
      "|         bitsong|  btsg|        BitSong|btsg token|2021-06-01 00:00:00|          0|     usd|  0.1414413303842235|                 0.0|  1219.8547939264358|\n",
      "|crypto-com-chain|   cro|Crypto.com Coin| cro token|2021-06-01 00:00:00|         44|     usd| 0.12325608871638344|3.1341634713627396E9| 7.961198035308987E7|\n",
      "|              ki|   xki|             KI| xki token|2021-06-01 00:00:00|          0|     usd|  0.2050637520885585|                 0.0|  141726.40229233124|\n",
      "|      terra-luna|  luna|          Terra|luna token|2021-06-01 00:00:00|         20|     usd|   6.183782271476159|2.5505698599930053E9| 2.714535296629241E8|\n",
      "|              ki|   xki|             KI| xki token|2021-06-01 00:00:00|          0|     usd| 0.20907522577292856|                 0.0|    165224.773452114|\n",
      "|   akash-network|   akt|  Akash Network| akt token|2021-06-01 00:00:00|          0|     usd|   3.088645971037362|1.8866938536888644E8|  1275138.8352810359|\n",
      "|              ki|   xki|             KI| xki token|2021-06-01 00:00:00|          0|     usd| 0.20748552495021222|                 0.0|  227003.17649573664|\n",
      "|    iris-network|  iris|        IRISnet|iris token|2021-06-01 00:00:00|          0|     usd| 0.07905738031998824| 8.093786826103258E7|   9800187.787270693|\n",
      "|              ki|   xki|             KI| xki token|2021-06-01 00:00:00|          0|     usd| 0.20381919232756907|                 0.0|  211363.14687342095|\n",
      "|      terra-luna|  luna|          Terra|luna token|2021-06-01 00:00:00|         20|     usd|   6.254873893486059|2.5824687231331406E9|2.7422255701696575E8|\n",
      "|      terra-luna|  luna|          Terra|luna token|2021-06-01 00:00:00|         20|     usd|   6.279605472208865| 2.572734336397879E9|  2.41011332560434E8|\n",
      "|crypto-com-chain|   cro|Crypto.com Coin| cro token|2021-06-01 00:00:00|         44|     usd| 0.12207780604874395|  3.08405328569874E9| 7.383964194007397E7|\n",
      "|crypto-com-chain|   cro|Crypto.com Coin| cro token|2021-06-01 00:00:00|         44|     usd| 0.12483779669113652|  3.15379581468378E9| 9.898464740720522E7|\n",
      "|        sentinel|  dvpn|       Sentinel|dvpn token|2021-06-01 00:00:00|          0|     usd|0.013790286981734703|                 0.0|    918201.264611068|\n",
      "|        likecoin|  like|       LikeCoin|like token|2021-06-01 00:00:00|         64|     usd|0.022602368204559246|2.3521401323343955E7|  114774.95395450306|\n",
      "|crypto-com-chain|   cro|Crypto.com Coin| cro token|2021-06-01 00:00:00|         44|     usd| 0.12229742580321375|  3.08532957582071E9| 7.460449882659741E7|\n",
      "|          cosmos|  atom|         Cosmos|atom token|2021-06-01 00:00:00|          0|     usd|   13.85959639615029|3.3283289040826783E9| 5.279296644987352E8|\n",
      "|    iris-network|  iris|        IRISnet|iris token|2021-06-01 00:00:00|          0|     usd| 0.07830666753387826| 7.996862082495461E7|1.0100994033126276E7|\n",
      "|        likecoin|  like|       LikeCoin|like token|2021-06-01 00:00:00|         64|     usd|0.021735545834374967| 2.175361970969187E7|  62357.303041006984|\n",
      "|   akash-network|   akt|  Akash Network| akt token|2021-06-01 00:00:00|          0|     usd|   3.068997495575369| 1.883040776198523E8|   1325076.132983941|\n",
      "|      terra-luna|  luna|          Terra|luna token|2021-06-01 00:00:00|         20|     usd|   6.240155732136215|2.5471250035874033E9| 3.150950266415119E8|\n",
      "|        terrausd|   ust|       TerraUSD| ust token|2021-06-01 00:00:00|         69|     usd|   1.001733937552522|1.9507205449750943E9| 6.597439266942588E7|\n",
      "|   akash-network|   akt|  Akash Network| akt token|2021-06-01 00:00:00|          0|     usd|   3.186057719168006|1.9544394762093222E8|   1455857.662030827|\n",
      "|          secret|  scrt|         Secret|scrt token|2021-06-01 00:00:00|         54|     usd|  1.6943936717996173|1.1811723009595677E8|  7607245.5114321755|\n",
      "|      terra-luna|  luna|          Terra|luna token|2021-06-01 00:00:00|         20|     usd|   6.190807315414153|2.5399109244769144E9|2.5333832493274486E8|\n",
      "|    iris-network|  iris|        IRISnet|iris token|2021-06-01 00:00:00|          0|     usd|  0.0781870817036859| 8.000849509027699E7|   9545735.646892598|\n",
      "|         e-money|   ngm|        e-Money| ngm token|2021-06-01 00:00:00|          0|     usd|  0.5013103759584611|1.0015458330333266E7|   64963.55834451707|\n",
      "|          cosmos|  atom|         Cosmos|atom token|2021-06-01 00:00:00|          0|     usd|  13.540424147393683| 3.253748940071035E9|5.1503796054892504E8|\n",
      "|         e-money|   ngm|        e-Money| ngm token|2021-06-01 00:00:00|          0|     usd|  0.5039955550408801|   9995246.748094926|   66217.60719771254|\n",
      "|      terra-luna|  luna|          Terra|luna token|2021-06-01 00:00:00|         20|     usd|  6.2952407783044455|2.5706037496195745E9|2.9802330191200054E8|\n",
      "|          secret|  scrt|         Secret|scrt token|2021-06-01 00:00:00|         54|     usd|   1.679915101308931|1.1731990124455304E8|   5457312.245476007|\n",
      "|crypto-com-chain|   cro|Crypto.com Coin| cro token|2021-06-01 00:00:00|         44|     usd| 0.12229742580321375|  3.08532957582071E9| 7.460449882659741E7|\n",
      "|      terra-luna|  luna|          Terra|luna token|2021-06-01 00:00:00|         20|     usd|   6.174384619056783| 2.527653041404303E9|2.5987985204425168E8|\n",
      "|        likecoin|  like|       LikeCoin|like token|2021-06-01 00:00:00|         64|     usd|  0.0223337516230354| 2.320809938659882E7|  113847.23154326208|\n",
      "|        terrausd|   ust|       TerraUSD| ust token|2021-06-01 00:00:00|         69|     usd|  1.0015080380627495| 1.951184822936055E9| 5.976614324671267E7|\n",
      "+----------------+------+---------------+----------+-------------------+-----------+--------+--------------------+--------------------+--------------------+\n",
      "only showing top 100 rows\n",
      "\n"
     ]
    }
   ],
   "source": [
    "out_df.orderBy('recorded_at').show(100)"
   ]
  },
  {
   "cell_type": "code",
   "execution_count": null,
   "metadata": {},
   "outputs": [],
   "source": []
  }
 ],
 "metadata": {
  "kernelspec": {
   "display_name": "Python 3",
   "language": "python",
   "name": "python3"
  },
  "language_info": {
   "codemirror_mode": {
    "name": "ipython",
    "version": 3
   },
   "file_extension": ".py",
   "mimetype": "text/x-python",
   "name": "python",
   "nbconvert_exporter": "python",
   "pygments_lexer": "ipython3",
   "version": "3.7.4"
  }
 },
 "nbformat": 4,
 "nbformat_minor": 4
}
